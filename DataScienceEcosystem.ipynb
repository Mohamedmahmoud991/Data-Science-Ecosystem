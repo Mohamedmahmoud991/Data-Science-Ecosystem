{
 "cells": [
  {
   "cell_type": "markdown",
   "id": "cb1bc5af",
   "metadata": {},
   "source": [
    "# **Data Science Tools and Ecosystem**"
   ]
  },
  {
   "cell_type": "markdown",
   "id": "0af6a905",
   "metadata": {},
   "source": [
    "In this notebook, Data Science Tools and Ecosystem are summarized."
   ]
  },
  {
   "cell_type": "markdown",
   "id": "eeb8f2ab",
   "metadata": {},
   "source": [
    "### **this notebook covered**\n",
    " **Objectives:**\n",
    " * languages for data science\n",
    " * Data science libraries\n",
    " * Data Science Tools\n",
    " * Data Science Tools"
   ]
  },
  {
   "cell_type": "markdown",
   "id": "bbf6d95b",
   "metadata": {},
   "source": [
    "### **languages for data science**\n",
    "**Some of the popular languages that Data Scientists use are:**\n",
    "* Python\n",
    "* Java\n",
    "* Ruby\n",
    "* PHP\n",
    "* C++"
   ]
  },
  {
   "cell_type": "markdown",
   "id": "e6fd9b83",
   "metadata": {},
   "source": [
    "### **Data science libraries**\n",
    "**Some of the commonly used libraries used by Data Scientists include:**\n",
    "* pandas\n",
    "* opencv\n",
    "* yensorflow\n",
    "* pytorch"
   ]
  },
  {
   "cell_type": "markdown",
   "id": "3962768f",
   "metadata": {},
   "source": [
    "### **Data Science Tools**\n",
    "|Data Science Tools|\n",
    "|------------------|\n",
    "|jupyter notebook|\n",
    "|git - github|\n",
    "|apache atlas|\n",
    "|TensorFlow|"
   ]
  },
  {
   "cell_type": "markdown",
   "id": "8e9a2e93",
   "metadata": {},
   "source": [
    "### **Arithmetic expressions in Python** ###\n",
    "### Below are a few examples of evaluating arithmetic expressions in Python :\n",
    "(+) Adition\n",
    "(-) ubtraction\n",
    "(/) division\n",
    "(*) Multiplication\n",
    "(%) modulus"
   ]
  },
  {
   "cell_type": "markdown",
   "id": "2d506e5b",
   "metadata": {},
   "source": [
    "###  multiply and add numbers ###"
   ]
  },
  {
   "cell_type": "code",
   "execution_count": 7,
   "id": "3f237d9a",
   "metadata": {},
   "outputs": [
    {
     "data": {
      "text/plain": [
       "17"
      ]
     },
     "execution_count": 7,
     "metadata": {},
     "output_type": "execute_result"
    }
   ],
   "source": [
    "'This a simple arithmetic expression to mutiply then add integers'\n",
    "(3*4)+5"
   ]
  },
  {
   "cell_type": "markdown",
   "id": "fc0d5a58",
   "metadata": {},
   "source": [
    " ### cell to convert minutes to hours ###"
   ]
  },
  {
   "cell_type": "code",
   "execution_count": 36,
   "id": "9acdc729",
   "metadata": {
    "scrolled": true
   },
   "outputs": [
    {
     "name": "stdout",
     "output_type": "stream",
     "text": [
      "3.3333333333333335\n"
     ]
    }
   ],
   "source": [
    "'This will convert 200 minutes to hours by diving by 60'\n",
    "m=(200)\n",
    "h=(m/60)\n",
    "print(h)"
   ]
  },
  {
   "cell_type": "markdown",
   "id": "c707f364",
   "metadata": {},
   "source": [
    "## Author\n",
    "**Mohamed Mahmoud**"
   ]
  },
  {
   "cell_type": "code",
   "execution_count": null,
   "id": "44bf8aff",
   "metadata": {},
   "outputs": [],
   "source": []
  }
 ],
 "metadata": {
  "kernelspec": {
   "display_name": "Python 3 (ipykernel)",
   "language": "python",
   "name": "python3"
  },
  "language_info": {
   "codemirror_mode": {
    "name": "ipython",
    "version": 3
   },
   "file_extension": ".py",
   "mimetype": "text/x-python",
   "name": "python",
   "nbconvert_exporter": "python",
   "pygments_lexer": "ipython3",
   "version": "3.11.5"
  }
 },
 "nbformat": 4,
 "nbformat_minor": 5
}
